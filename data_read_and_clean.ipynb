{
 "cells": [
  {
   "cell_type": "code",
   "execution_count": null,
   "metadata": {},
   "outputs": [],
   "source": [
    "import math\n",
    "\n",
    "import tabula\n",
    "import pandas as pd\n",
    "import numpy as np"
   ]
  },
  {
   "cell_type": "code",
   "execution_count": null,
   "metadata": {},
   "outputs": [],
   "source": [
    "tables = tabula.read_pdf('table.pdf', pages=[4,5,6,7], multiple_tables=True)"
   ]
  },
  {
   "cell_type": "markdown",
   "metadata": {},
   "source": [
    "# Data Cleaning"
   ]
  },
  {
   "cell_type": "code",
   "execution_count": null,
   "metadata": {},
   "outputs": [],
   "source": [
    "# Manually inspect output tables\n",
    "for table in tables:\n",
    "    print(table.info())\n",
    "    \n",
    "# Index 0-4 are our main tables. Tabel 5 is smaller table on page 7."
   ]
  },
  {
   "cell_type": "code",
   "execution_count": null,
   "metadata": {},
   "outputs": [],
   "source": [
    "# Work with the first table\n",
    "first_table_copy = tables[0].copy()"
   ]
  },
  {
   "cell_type": "code",
   "execution_count": null,
   "metadata": {},
   "outputs": [],
   "source": [
    "first_table_copy.head()"
   ]
  },
  {
   "cell_type": "code",
   "execution_count": null,
   "metadata": {},
   "outputs": [],
   "source": [
    "# See that there are some problems with the header\n",
    "\n",
    "# Construct a header\n",
    "data_label = tables[0].iloc[0]\n",
    "data_type = tables[0].iloc[1]\n",
    "\n",
    "column_names = []\n",
    "for i in range(len(data_label)):\n",
    "    try:\n",
    "        math.isnan(data_label[i])\n",
    "        column_names.append(F\"{data_type[i]}\")\n",
    "    except TypeError:\n",
    "        column_names.append(F\"{data_label[i]} {data_type[i]}\")\n",
    "        \n",
    "\n",
    "print(column_names)"
   ]
  },
  {
   "cell_type": "code",
   "execution_count": null,
   "metadata": {},
   "outputs": [],
   "source": [
    "# More cleaning of headers\n",
    "\n",
    "for i in range(len(column_names)):\n",
    "    column_name = column_names[i]\n",
    "    found = column_name.find('exptl - calcd')\n",
    "    if found != -1:\n",
    "        column_name = column_name[:found]\n",
    "    \n",
    "    column_names[i] = column_name\n",
    "\n",
    "print(column_names)"
   ]
  },
  {
   "cell_type": "code",
   "execution_count": null,
   "metadata": {},
   "outputs": [],
   "source": [
    "# Now we will get rid of those two rows we don't need\n",
    "\n",
    "# First drop first two rows\n",
    "first_table_copy = first_table_copy.drop(index=[0,1])\n",
    "\n",
    "# Then set the headers\n",
    "first_table_copy.columns = column_names"
   ]
  },
  {
   "cell_type": "code",
   "execution_count": null,
   "metadata": {},
   "outputs": [],
   "source": [
    "first_table_copy"
   ]
  },
  {
   "cell_type": "code",
   "execution_count": null,
   "metadata": {},
   "outputs": [],
   "source": [
    "# Next split and get rid of value we don't need (we can calculate it ourselves)\n",
    "for i in range(3,6):\n",
    "    first_table_copy.iloc[:,i] = first_table_copy.iloc[:, i].str.split().str[0]"
   ]
  },
  {
   "cell_type": "code",
   "execution_count": null,
   "metadata": {},
   "outputs": [],
   "source": [
    "first_table_copy"
   ]
  },
  {
   "cell_type": "code",
   "execution_count": null,
   "metadata": {},
   "outputs": [],
   "source": [
    "# Let's do this in a loop then concatenate the tables.\n",
    "\n",
    "df = pd.DataFrame()\n",
    "\n",
    "for table in tables[:-1]:\n",
    "    table_copy = table.copy()\n",
    "    \n",
    "    # Construct a header\n",
    "    data_label = table_copy.iloc[0]\n",
    "    data_type = table_copy.iloc[1]\n",
    "\n",
    "    column_names = []\n",
    "    for i in range(len(data_label)):\n",
    "        try:\n",
    "            math.isnan(data_label[i])\n",
    "            column_names.append(F\"{data_type[i]}\")\n",
    "        except TypeError:\n",
    "            column_names.append(F\"{data_label[i]} {data_type[i]}\")\n",
    "    \n",
    "    for i in range(len(column_names)):\n",
    "        column_name = column_names[i]\n",
    "        found = column_name.find('exptl - calcd')\n",
    "        if found != -1:\n",
    "            column_name = column_name[:found]\n",
    "\n",
    "        column_names[i] = column_name\n",
    "    \n",
    "    # First drop first two rows\n",
    "    table_copy = table_copy.drop(index=[0,1])\n",
    "\n",
    "    # Then set the headers\n",
    "    table_copy.columns = column_names\n",
    "    \n",
    "    \n",
    "    # Next split and get rid of value we don't need (we can calculate it ourselves)\n",
    "    for i in range(3,6):\n",
    "        table_copy.iloc[:,i] = table_copy.iloc[:, i].str.split().str[0]\n",
    "    \n",
    "    df = pd.concat([df, table_copy])\n",
    "    "
   ]
  },
  {
   "cell_type": "code",
   "execution_count": null,
   "metadata": {},
   "outputs": [],
   "source": [
    "# Set index to molecule numberr\n",
    "df.set_index('no.', inplace=True)"
   ]
  },
  {
   "cell_type": "code",
   "execution_count": null,
   "metadata": {},
   "outputs": [],
   "source": [
    "# Set 'b' values to NaN\n",
    "df.replace('b', np.nan, inplace=True)"
   ]
  },
  {
   "cell_type": "code",
   "execution_count": null,
   "metadata": {},
   "outputs": [],
   "source": [
    "# Save as csv\n",
    "df.to_csv('table_from_paper.csv')"
   ]
  },
  {
   "cell_type": "code",
   "execution_count": null,
   "metadata": {},
   "outputs": [],
   "source": [
    "# Leave this table for later.\n",
    "\n",
    "tables[4]"
   ]
  },
  {
   "cell_type": "code",
   "execution_count": null,
   "metadata": {},
   "outputs": [],
   "source": []
  }
 ],
 "metadata": {
  "kernelspec": {
   "display_name": "Python 3",
   "language": "python",
   "name": "python3"
  },
  "language_info": {
   "codemirror_mode": {
    "name": "ipython",
    "version": 3
   },
   "file_extension": ".py",
   "mimetype": "text/x-python",
   "name": "python",
   "nbconvert_exporter": "python",
   "pygments_lexer": "ipython3",
   "version": "3.7.8"
  }
 },
 "nbformat": 4,
 "nbformat_minor": 4
}
