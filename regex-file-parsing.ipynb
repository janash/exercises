{
 "cells": [
  {
   "cell_type": "markdown",
   "metadata": {},
   "source": [
    "# Advanced File Parsing\n",
    "\n",
    "Parse an sdf file with RegEx"
   ]
  },
  {
   "cell_type": "code",
   "execution_count": null,
   "metadata": {},
   "outputs": [],
   "source": [
    "import pandas as pd\n",
    "import numpy as np\n",
    "import re\n",
    "\n",
    "with open('SBE-b-CD-data.sdf') as f:\n",
    "    sdf_string = f.read()\n",
    "    \n",
    "    # Info for molecules is given between $$$$\n",
    "    pattern = re.compile('(?<=\\$\\$\\$\\$)((.|\\n)*?)(?=\\$\\$\\$\\$)')\n",
    "    matches = pattern.finditer(sdf_string)\n",
    "    "
   ]
  },
  {
   "cell_type": "code",
   "execution_count": null,
   "metadata": {},
   "outputs": [],
   "source": [
    "#print(f'{len(list(matches))} molecules found in file')"
   ]
  },
  {
   "cell_type": "code",
   "execution_count": null,
   "metadata": {},
   "outputs": [],
   "source": [
    "molecule_info = []\n",
    "\n",
    "for match in matches:\n",
    "    \n",
    "    # Strip to get rid of whitespace around the text.\n",
    "    molecule_string = str(match.group().strip())\n",
    "    \n",
    "    # Get the molecule name\n",
    "    molecule_name = molecule_string[:molecule_string.find('\\n')]\n",
    "    \n",
    "    # Set up dictionary\n",
    "    one_info = {}\n",
    "    one_info['name'] = molecule_name\n",
    "    \n",
    "    \n",
    "    # Get any key-value properties\n",
    "    key_pattern = re.compile('\\<(.*)\\>\\s[^\\n]*')\n",
    "    key_string = key_pattern.finditer(molecule_string)\n",
    "    \n",
    "    for k in key_string:\n",
    "        search_string = k.group()\n",
    "        \n",
    "        key = re.search('(?<=\\<)((.|\\n)*?)(?=\\>)', search_string).group()\n",
    "        end_key = re.search('(?<=\\<)((.|\\n)*?)(?=\\>)', search_string).span()[-1]\n",
    "        value = search_string[end_key+1:].strip()\n",
    "\n",
    "        try:\n",
    "            one_info[key] = float(value)\n",
    "        except ValueError:\n",
    "            one_info[key] = value\n",
    "    \n",
    "    # Find the molecule coordinates.\n",
    "    pattern = re.compile('([-,+]?[0-9]\\.[0-9]{4}\\s*){3}(\\D)')\n",
    "    coordinates = pattern.finditer(molecule_string)\n",
    "    \n",
    "    # Get coordinates and element name.\n",
    "    molecule_coordinates = []\n",
    "    molecule_elements = []\n",
    "    for coordinate in coordinates:\n",
    "        coord_info = coordinate.group().split()\n",
    "        element = coord_info[-1]\n",
    "        coordinates = coord_info[:-1]\n",
    "        molecule_coordinates.append(coordinates)\n",
    "        molecule_elements.append(element)\n",
    "    \n",
    "    one_info['coordinates'] = np.array(molecule_coordinates)\n",
    "    one_info['elements'] = molecule_elements\n",
    "\n",
    "    molecule_info.append(one_info)"
   ]
  },
  {
   "cell_type": "code",
   "execution_count": null,
   "metadata": {},
   "outputs": [],
   "source": [
    "df = pd.DataFrame.from_dict(molecule_info)"
   ]
  },
  {
   "cell_type": "code",
   "execution_count": null,
   "metadata": {},
   "outputs": [],
   "source": [
    "df"
   ]
  },
  {
   "cell_type": "code",
   "execution_count": null,
   "metadata": {},
   "outputs": [],
   "source": []
  }
 ],
 "metadata": {
  "kernelspec": {
   "display_name": "Python 3",
   "language": "python",
   "name": "python3"
  },
  "language_info": {
   "codemirror_mode": {
    "name": "ipython",
    "version": 3
   },
   "file_extension": ".py",
   "mimetype": "text/x-python",
   "name": "python",
   "nbconvert_exporter": "python",
   "pygments_lexer": "ipython3",
   "version": "3.7.8"
  }
 },
 "nbformat": 4,
 "nbformat_minor": 4
}
